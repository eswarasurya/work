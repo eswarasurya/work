{
 "cells": [
  {
   "cell_type": "markdown",
   "metadata": {},
   "source": [
    "## Problem - 2 : Eight Puzzle"
   ]
  },
  {
   "cell_type": "code",
   "execution_count": 1,
   "metadata": {},
   "outputs": [],
   "source": [
    "import copy"
   ]
  },
  {
   "cell_type": "markdown",
   "metadata": {},
   "source": [
    "### Problem Class\n",
    "This is the problem class for the Eight puzzle problem which has actions, result and step_cost as its methods. actions method returns the all possible actions it can have( moving left, right, top, bottom of white space ) of a given state. The result method computes the result of a given action. and step_cost returns the cost for performing the action from the given state. Which is always 1 in this case."
   ]
  },
  {
   "cell_type": "code",
   "execution_count": 2,
   "metadata": {},
   "outputs": [],
   "source": [
    "class Problem:\n",
    "    def __init__(self, state, goal):\n",
    "        self.state = state\n",
    "        self.goal = goal\n",
    "        self.initial_state = state\n",
    "\n",
    "    def actions(self, state):\n",
    "        l = ['left', 'right', 'up', 'down']\n",
    "        return l\n",
    "\n",
    "    def result(self, state, action):\n",
    "        if action == 'left':\n",
    "            res = move_left(state)\n",
    "            return res\n",
    "        if action == 'right':\n",
    "            res = move_right(state)\n",
    "            return res\n",
    "        if action == 'up':\n",
    "            res = move_up(state)\n",
    "            return res\n",
    "        if action == 'down':\n",
    "            res = move_down(state)\n",
    "            return res\n",
    "\n",
    "    def step_cost(self, state, action):\n",
    "        cost = 1\n",
    "        return cost"
   ]
  },
  {
   "cell_type": "markdown",
   "metadata": {},
   "source": [
    "### ChildNode Class\n",
    "This class creates a object for a given problem object, action and parent. If the parent is none then it is initial node so the path cost will be zero, otherwise we compute the path cost from parent.step_cost method"
   ]
  },
  {
   "cell_type": "code",
   "execution_count": 3,
   "metadata": {},
   "outputs": [],
   "source": [
    "class ChildNode:\n",
    "    def __init__(self, problem, action, parent):\n",
    "        if parent is None:\n",
    "            self.state = problem.initial_state\n",
    "            self.parent = None\n",
    "            self.action = None\n",
    "            self.path_cost = 0\n",
    "        else:\n",
    "            self.state = problem.result(parent.state, action)\n",
    "            self.parent = parent\n",
    "            self.action = action\n",
    "            self.path_cost = parent.path_cost + problem.step_cost(parent.state, action)"
   ]
  },
  {
   "cell_type": "markdown",
   "metadata": {},
   "source": [
    "### Update_state\n",
    "Updates the state for given percept and state."
   ]
  },
  {
   "cell_type": "code",
   "execution_count": 4,
   "metadata": {},
   "outputs": [],
   "source": [
    "def update_state(state, percept):\n",
    "    state = percept[0]\n",
    "    return state"
   ]
  },
  {
   "cell_type": "markdown",
   "metadata": {},
   "source": [
    "### Formulate_goal\n",
    "Formulates the goal based on the percept. Currently it is the second item of the percept."
   ]
  },
  {
   "cell_type": "code",
   "execution_count": 5,
   "metadata": {},
   "outputs": [],
   "source": [
    "def formulate_goal(state, percept):\n",
    "    return percept[1]"
   ]
  },
  {
   "cell_type": "markdown",
   "metadata": {},
   "source": [
    "### Formulate_problem\n",
    "Creates a problem object for the given current state and goal."
   ]
  },
  {
   "cell_type": "code",
   "execution_count": 6,
   "metadata": {},
   "outputs": [],
   "source": [
    "def formulate_problem(state, goal):\n",
    "    temp_problem = Problem(state, goal)\n",
    "    return temp_problem"
   ]
  },
  {
   "cell_type": "markdown",
   "metadata": {},
   "source": [
    "### Goal_Test\n",
    "Checks weather a given state is goal or not. Note that goal is declared globally."
   ]
  },
  {
   "cell_type": "code",
   "execution_count": 7,
   "metadata": {},
   "outputs": [],
   "source": [
    "def goal_test(state):\n",
    "    if state == goal:\n",
    "        return True\n",
    "    return False"
   ]
  },
  {
   "cell_type": "markdown",
   "metadata": {},
   "source": [
    "### Move_up\n",
    "For the given puzzle state it moves the white space( in our case '0' ) by one position up. If cant it returns the same state"
   ]
  },
  {
   "cell_type": "code",
   "execution_count": 8,
   "metadata": {},
   "outputs": [],
   "source": [
    "def move_up(puzzle):\n",
    "    puzzle1 = copy.deepcopy(puzzle)\n",
    "    index = puzzle1.index(0)\n",
    "    if index <= 2:\n",
    "        return puzzle1\n",
    "    temp = puzzle1[index - 3]\n",
    "    puzzle1[index] = temp\n",
    "    puzzle1[index - 3] = 0\n",
    "    return puzzle1"
   ]
  },
  {
   "cell_type": "markdown",
   "metadata": {},
   "source": [
    "### Move_down\n",
    "For the given puzzle state it moves the white space( in our case '0' ) by one position down. If cant it returns the same state"
   ]
  },
  {
   "cell_type": "code",
   "execution_count": 9,
   "metadata": {},
   "outputs": [],
   "source": [
    "def move_down(puzzle):\n",
    "    puzzle1 = copy.deepcopy(puzzle)\n",
    "    index = puzzle1.index(0)\n",
    "    if index >= 6:\n",
    "        return puzzle1\n",
    "    temp = puzzle1[index + 3]\n",
    "    puzzle1[index] = temp\n",
    "    puzzle1[index + 3] = 0\n",
    "    return puzzle1"
   ]
  },
  {
   "cell_type": "markdown",
   "metadata": {},
   "source": [
    "### Move_left\n",
    "For the given puzzle state it moves the white space( in our case '0' ) by one position left. If cant it returns the same state"
   ]
  },
  {
   "cell_type": "code",
   "execution_count": 10,
   "metadata": {},
   "outputs": [],
   "source": [
    "def move_left(puzzle):\n",
    "    puzzle1 = copy.deepcopy(puzzle)\n",
    "    index = puzzle1.index(0)\n",
    "    if index == 0 or index == 3 or index == 6:\n",
    "        return puzzle1\n",
    "    temp = puzzle1[index - 1]\n",
    "    puzzle1[index] = temp\n",
    "    puzzle1[index - 1] = 0\n",
    "    return puzzle1"
   ]
  },
  {
   "cell_type": "markdown",
   "metadata": {},
   "source": [
    "### Move_right\n",
    "For the given puzzle state it moves the white space( in our case '0' ) by one position right. If cant it returns the same state"
   ]
  },
  {
   "cell_type": "code",
   "execution_count": 11,
   "metadata": {},
   "outputs": [],
   "source": [
    "def move_right(puzzle):\n",
    "    puzzle1 = copy.deepcopy(puzzle)\n",
    "    index = puzzle1.index(0)\n",
    "    if index == 2 or index == 5 or index == 8:\n",
    "        return puzzle1\n",
    "    temp = puzzle1[index + 1]\n",
    "    puzzle1[index] = temp\n",
    "    puzzle1[index + 1] = 0\n",
    "    return puzzle1"
   ]
  },
  {
   "cell_type": "markdown",
   "metadata": {},
   "source": [
    "### Print_Puzzle\n",
    "Prints the given state of puzzle which is currently in a list format in a neat manner."
   ]
  },
  {
   "cell_type": "code",
   "execution_count": 12,
   "metadata": {},
   "outputs": [],
   "source": [
    "def print_puzzle(puzzle):\n",
    "    for i in range(0, len(puzzle), 3):\n",
    "        print(puzzle[i], puzzle[i + 1], puzzle[i + 2])"
   ]
  },
  {
   "cell_type": "markdown",
   "metadata": {},
   "source": [
    "### Solution\n",
    "For a given node it back traverses to its parent until its parent is none and stores all its state in a list, which will be our action secquence."
   ]
  },
  {
   "cell_type": "code",
   "execution_count": 13,
   "metadata": {},
   "outputs": [],
   "source": [
    "def solution(node):\n",
    "    path_list = []\n",
    "    path_list.append(node.state)\n",
    "    while node.parent is not None:\n",
    "        node = node.parent\n",
    "        path_list.append(node.state)\n",
    "    path_list.reverse()\n",
    "    print('Path Cost: ', len(path_list) - 1)\n",
    "    return path_list"
   ]
  },
  {
   "cell_type": "markdown",
   "metadata": {},
   "source": [
    "### is_present_in_set\n",
    "For a given set and a node, it checks weather any element present which has same state attribute as node."
   ]
  },
  {
   "cell_type": "code",
   "execution_count": 14,
   "metadata": {},
   "outputs": [],
   "source": [
    "def is_present_in_set(temp_set, node):\n",
    "    temp_list = list(temp_set)\n",
    "    for x in temp_list:\n",
    "        if x.state == node.state:\n",
    "            return True\n",
    "    return False"
   ]
  },
  {
   "cell_type": "markdown",
   "metadata": {},
   "source": [
    "### Manhattan distance\n",
    "It computes the manhatten distance for all the squares and sums up which will be our heuristic."
   ]
  },
  {
   "cell_type": "code",
   "execution_count": 15,
   "metadata": {},
   "outputs": [],
   "source": [
    "def manhattan(state, goal):\n",
    "    cost = 0\n",
    "    for i in range(0, 9):\n",
    "        index = goal.index(state[i])\n",
    "        xdif = abs(i % 3 - index % 3)\n",
    "        ydif = abs(int(i / 3) - int(index / 3))\n",
    "        cost = cost + xdif + ydif\n",
    "    # print('manhatton cost: ', cost)\n",
    "    return cost"
   ]
  },
  {
   "cell_type": "markdown",
   "metadata": {},
   "source": [
    "### get_node\n",
    "Returns the element from the frontier which has minimum heuristic function value. "
   ]
  },
  {
   "cell_type": "code",
   "execution_count": 16,
   "metadata": {},
   "outputs": [],
   "source": [
    "def get_node(frontier):\n",
    "    min_node = frontier[0]\n",
    "    min_cost = manhattan(min_node.state, goal) + min_node.path_cost\n",
    "    for x in frontier:\n",
    "        temp = manhattan(x.state, goal) + x.path_cost\n",
    "        if temp < min_cost:\n",
    "            min_node = x\n",
    "            min_cost = temp\n",
    "    frontier.remove(min_node)\n",
    "    return min_node"
   ]
  },
  {
   "cell_type": "markdown",
   "metadata": {},
   "source": [
    "### get_node_gbfs\n",
    "Returns the element from the frontier which has minimum heuristic function value for Greedy best first search. "
   ]
  },
  {
   "cell_type": "code",
   "execution_count": 17,
   "metadata": {},
   "outputs": [],
   "source": [
    "def get_node_gbfs(frontier):\n",
    "    min_node = frontier[0]\n",
    "    # print(manhattan(min_node.state, goal))\n",
    "    min_cost = manhattan(min_node.state, goal)\n",
    "    for x in frontier:\n",
    "        temp = manhattan(x.state, goal)\n",
    "        if temp < min_cost:\n",
    "            min_node = x\n",
    "            min_cost = temp\n",
    "    frontier.remove(min_node)\n",
    "    return min_node"
   ]
  },
  {
   "cell_type": "markdown",
   "metadata": {},
   "source": [
    "### change_frontier\n",
    "If a given node already exists in the frontier and it has minimum heuristic funcion, then it keeps the frontier intact. Otherwise it replaces it with the node which has min heuristic function."
   ]
  },
  {
   "cell_type": "code",
   "execution_count": 18,
   "metadata": {},
   "outputs": [],
   "source": [
    "def change_frontier(frontier, node):\n",
    "    changed = False\n",
    "    for i in range(0, len(frontier)):\n",
    "         if frontier[i].state == node.state and node.path_cost < frontier[i].path_cost:\n",
    "                frontier[i] = node\n",
    "                changed = True\n",
    "    return changed"
   ]
  },
  {
   "cell_type": "markdown",
   "metadata": {},
   "source": [
    "### BFS\n",
    "Performs Breadth First Search for a given problem object and goal_test"
   ]
  },
  {
   "cell_type": "code",
   "execution_count": 19,
   "metadata": {},
   "outputs": [],
   "source": [
    "def bfs(problem, goal_test):\n",
    "    if goal_test(problem.initial_state):\n",
    "        print(problem.state)\n",
    "        return\n",
    "    frontier = []\n",
    "    explored_set = set('')\n",
    "    temp_orig = ChildNode(problem, None, None)\n",
    "    frontier.append(temp_orig)\n",
    "    while not not frontier:\n",
    "        node = frontier.pop(0)\n",
    "        explored_set.add(node)\n",
    "        for l in problem.actions(node.state):\n",
    "            temp_child = ChildNode(problem, l, node)\n",
    "            if not is_present_in_set(explored_set, temp_child) and not is_present_in_set(frontier, temp_child):\n",
    "                if goal_test(temp_child.state):\n",
    "                    return solution(temp_child)\n",
    "                frontier.append(temp_child)\n",
    "    return None"
   ]
  },
  {
   "cell_type": "markdown",
   "metadata": {},
   "source": [
    "### DFS\n",
    "Performs Deapth First Search for a given problem object and goal_test"
   ]
  },
  {
   "cell_type": "code",
   "execution_count": 20,
   "metadata": {},
   "outputs": [],
   "source": [
    "def dfs(problem, goal_test):\n",
    "    if goal_test(problem.initial_state):\n",
    "        print(problem.state)\n",
    "        return\n",
    "    frontier = []\n",
    "    explored_set = set('')\n",
    "    temp_orig = ChildNode(problem, None, None)\n",
    "    frontier.append(temp_orig)\n",
    "    while not not frontier:\n",
    "        node = frontier.pop()\n",
    "        explored_set.add(node)\n",
    "        for l in problem.actions(node.state):\n",
    "            temp_child = ChildNode(problem, l, node)\n",
    "            if not is_present_in_set(explored_set, temp_child) and not is_present_in_set(frontier, temp_child):\n",
    "                if goal_test(temp_child.state):\n",
    "                    return solution(temp_child)\n",
    "                frontier.append(temp_child)\n",
    "    return None"
   ]
  },
  {
   "cell_type": "markdown",
   "metadata": {},
   "source": [
    "### GBFS\n",
    "Performs Greedy Best First Search for a given problem object and goal_test"
   ]
  },
  {
   "cell_type": "code",
   "execution_count": 21,
   "metadata": {},
   "outputs": [],
   "source": [
    "def gbfs(problem, goal_test):\n",
    "    if goal_test(problem.initial_state):\n",
    "        print(problem.state)\n",
    "        return\n",
    "    frontier = []\n",
    "    explored_set = set('')\n",
    "    temp_orig = ChildNode(problem, None, None)\n",
    "    frontier.append(temp_orig)\n",
    "    while not not frontier:\n",
    "        node = get_node_gbfs(frontier)\n",
    "        explored_set.add(node)\n",
    "        for l in problem.actions(node.state):\n",
    "            temp_child = ChildNode(problem, l, node)\n",
    "            if not is_present_in_set(explored_set, temp_child) and not is_present_in_set(frontier, temp_child):\n",
    "                if goal_test(temp_child.state):\n",
    "                    return solution(temp_child)\n",
    "                frontier.append(temp_child)\n",
    "    return None"
   ]
  },
  {
   "cell_type": "markdown",
   "metadata": {},
   "source": [
    "### A*\n",
    "Performs A* Search for a given problem object and goal_test"
   ]
  },
  {
   "cell_type": "code",
   "execution_count": 22,
   "metadata": {},
   "outputs": [],
   "source": [
    "def astar(problem, goal_test):\n",
    "    if goal_test(problem.initial_state):\n",
    "        print(problem.state)\n",
    "        return\n",
    "    frontier = []\n",
    "    explored_set = set('')\n",
    "    temp_orig = ChildNode(problem, None, None)\n",
    "    frontier.append(temp_orig)\n",
    "    while not not frontier:\n",
    "        node = get_node(frontier)\n",
    "        explored_set.add(node)\n",
    "        for l in problem.actions(node.state):\n",
    "            temp_child = ChildNode(problem, l, node)\n",
    "            if not is_present_in_set(explored_set, temp_child):\n",
    "                changed = change_frontier(frontier, temp_child)\n",
    "                if goal_test(temp_child.state):\n",
    "                    return solution(temp_child)\n",
    "                if not changed:\n",
    "                    frontier.append(temp_child)\n",
    "    return None"
   ]
  },
  {
   "cell_type": "markdown",
   "metadata": {},
   "source": [
    "### Simple Problem Solving Agent\n",
    "This is the function of simple problem solving agent which takes in the percept, type of search algorithm, the goal test and returns the action secquence."
   ]
  },
  {
   "cell_type": "code",
   "execution_count": 23,
   "metadata": {},
   "outputs": [],
   "source": [
    "def Simple_Problem_Solving_Agent(percept, search, goal_test):\n",
    "    seq = []\n",
    "    state = percept[0]\n",
    "    state = update_state(state, percept)\n",
    "    global goal\n",
    "    if seq == []:\n",
    "        goal = formulate_goal(state, percept)\n",
    "        problem = formulate_problem(state, goal)\n",
    "        seq = search(problem, goal_test)\n",
    "        # print('printing seq: ', seq)\n",
    "        if seq is None:\n",
    "            return None\n",
    "        return seq"
   ]
  },
  {
   "cell_type": "markdown",
   "metadata": {},
   "source": [
    "### Outputs for pre defined inputs"
   ]
  },
  {
   "cell_type": "markdown",
   "metadata": {},
   "source": [
    "### BFS"
   ]
  },
  {
   "cell_type": "code",
   "execution_count": 24,
   "metadata": {},
   "outputs": [
    {
     "name": "stdout",
     "output_type": "stream",
     "text": [
      "Path Cost:  2\n",
      "\n",
      "1 2 0\n",
      "3 4 5\n",
      "6 7 8\n",
      "\n",
      "1 0 2\n",
      "3 4 5\n",
      "6 7 8\n",
      "\n",
      "0 1 2\n",
      "3 4 5\n",
      "6 7 8\n",
      "\n"
     ]
    }
   ],
   "source": [
    "p = Simple_Problem_Solving_Agent([[1, 2, 0, 3, 4, 5, 6, 7, 8], [0, 1, 2, 3, 4, 5, 6, 7, 8]],bfs, goal_test)\n",
    "\n",
    "print()\n",
    "for l in p:\n",
    "    print_puzzle(l)\n",
    "    print()"
   ]
  },
  {
   "cell_type": "markdown",
   "metadata": {},
   "source": [
    "### DFS"
   ]
  },
  {
   "cell_type": "code",
   "execution_count": 25,
   "metadata": {},
   "outputs": [
    {
     "name": "stdout",
     "output_type": "stream",
     "text": [
      "Path Cost:  1\n",
      "\n",
      "1 0 2\n",
      "3 4 5\n",
      "6 7 8\n",
      "\n",
      "0 1 2\n",
      "3 4 5\n",
      "6 7 8\n",
      "\n"
     ]
    }
   ],
   "source": [
    "p = Simple_Problem_Solving_Agent([[1, 0, 2, 3, 4, 5, 6, 7, 8], [0, 1, 2, 3, 4, 5, 6, 7, 8]],dfs, goal_test)\n",
    "\n",
    "print()\n",
    "for l in p:\n",
    "    print_puzzle(l)\n",
    "    print()"
   ]
  },
  {
   "cell_type": "markdown",
   "metadata": {},
   "source": [
    "### Greedy Best First Search"
   ]
  },
  {
   "cell_type": "code",
   "execution_count": 26,
   "metadata": {},
   "outputs": [
    {
     "name": "stdout",
     "output_type": "stream",
     "text": [
      "Path Cost:  2\n",
      "\n",
      "1 2 0\n",
      "3 4 5\n",
      "6 7 8\n",
      "\n",
      "1 0 2\n",
      "3 4 5\n",
      "6 7 8\n",
      "\n",
      "0 1 2\n",
      "3 4 5\n",
      "6 7 8\n",
      "\n"
     ]
    }
   ],
   "source": [
    "p = Simple_Problem_Solving_Agent([[1, 2, 0, 3, 4, 5, 6, 7, 8], [0, 1, 2, 3, 4, 5, 6, 7, 8]],gbfs, goal_test)\n",
    "\n",
    "print()\n",
    "for l in p:\n",
    "    print_puzzle(l)\n",
    "    print()"
   ]
  },
  {
   "cell_type": "markdown",
   "metadata": {},
   "source": [
    "### A*"
   ]
  },
  {
   "cell_type": "code",
   "execution_count": 27,
   "metadata": {},
   "outputs": [
    {
     "name": "stdout",
     "output_type": "stream",
     "text": [
      "Path Cost:  2\n",
      "\n",
      "1 2 0\n",
      "3 4 5\n",
      "6 7 8\n",
      "\n",
      "1 0 2\n",
      "3 4 5\n",
      "6 7 8\n",
      "\n",
      "0 1 2\n",
      "3 4 5\n",
      "6 7 8\n",
      "\n"
     ]
    }
   ],
   "source": [
    "p = Simple_Problem_Solving_Agent([[1, 2, 0, 3, 4, 5, 6, 7, 8], [0, 1, 2, 3, 4, 5, 6, 7, 8]],astar, goal_test)\n",
    "\n",
    "print()\n",
    "for l in p:\n",
    "    print_puzzle(l)\n",
    "    print()"
   ]
  },
  {
   "cell_type": "markdown",
   "metadata": {},
   "source": [
    "### Input Output\n",
    "Takes in the user input, calls the problem solving agent and prints the sequence."
   ]
  },
  {
   "cell_type": "code",
   "execution_count": 28,
   "metadata": {
    "scrolled": true
   },
   "outputs": [
    {
     "name": "stdout",
     "output_type": "stream",
     "text": [
      "Enter the initial state: 7 2 4 5 0 6 8 3 1\n",
      "Enter the final state: 0 1 2 3 4 5 6 7 8\n",
      "Enter method, i.e, bfs or dfs or gbfs or astar: astar\n",
      "Path Cost:  26\n",
      "\n",
      "7 2 4\n",
      "5 0 6\n",
      "8 3 1\n",
      "\n",
      "7 2 4\n",
      "0 5 6\n",
      "8 3 1\n",
      "\n",
      "0 2 4\n",
      "7 5 6\n",
      "8 3 1\n",
      "\n",
      "2 0 4\n",
      "7 5 6\n",
      "8 3 1\n",
      "\n",
      "2 5 4\n",
      "7 0 6\n",
      "8 3 1\n",
      "\n",
      "2 5 4\n",
      "7 3 6\n",
      "8 0 1\n",
      "\n",
      "2 5 4\n",
      "7 3 6\n",
      "0 8 1\n",
      "\n",
      "2 5 4\n",
      "0 3 6\n",
      "7 8 1\n",
      "\n",
      "2 5 4\n",
      "3 0 6\n",
      "7 8 1\n",
      "\n",
      "2 5 4\n",
      "3 6 0\n",
      "7 8 1\n",
      "\n",
      "2 5 0\n",
      "3 6 4\n",
      "7 8 1\n",
      "\n",
      "2 0 5\n",
      "3 6 4\n",
      "7 8 1\n",
      "\n",
      "0 2 5\n",
      "3 6 4\n",
      "7 8 1\n",
      "\n",
      "3 2 5\n",
      "0 6 4\n",
      "7 8 1\n",
      "\n",
      "3 2 5\n",
      "6 0 4\n",
      "7 8 1\n",
      "\n",
      "3 2 5\n",
      "6 4 0\n",
      "7 8 1\n",
      "\n",
      "3 2 5\n",
      "6 4 1\n",
      "7 8 0\n",
      "\n",
      "3 2 5\n",
      "6 4 1\n",
      "7 0 8\n",
      "\n",
      "3 2 5\n",
      "6 4 1\n",
      "0 7 8\n",
      "\n",
      "3 2 5\n",
      "0 4 1\n",
      "6 7 8\n",
      "\n",
      "3 2 5\n",
      "4 0 1\n",
      "6 7 8\n",
      "\n",
      "3 2 5\n",
      "4 1 0\n",
      "6 7 8\n",
      "\n",
      "3 2 0\n",
      "4 1 5\n",
      "6 7 8\n",
      "\n",
      "3 0 2\n",
      "4 1 5\n",
      "6 7 8\n",
      "\n",
      "3 1 2\n",
      "4 0 5\n",
      "6 7 8\n",
      "\n",
      "3 1 2\n",
      "0 4 5\n",
      "6 7 8\n",
      "\n",
      "0 1 2\n",
      "3 4 5\n",
      "6 7 8\n",
      "\n"
     ]
    }
   ],
   "source": [
    "source = [int(x) for x in input('Enter the initial state: ').split()]\n",
    "dest = [int(x) for x in input('Enter the final state: ').split()]\n",
    "l = [source, dest]\n",
    "\n",
    "method = input('Enter method, i.e, bfs or dfs or gbfs or astar: ')\n",
    "mapper = {'bfs':bfs, 'dfs':dfs, 'gbfs':gbfs, 'astar':astar}\n",
    "\n",
    "p = Simple_Problem_Solving_Agent(l,mapper[method], goal_test)\n",
    "\n",
    "print()\n",
    "for l in p:\n",
    "    print_puzzle(l)\n",
    "    print()"
   ]
  },
  {
   "cell_type": "code",
   "execution_count": null,
   "metadata": {},
   "outputs": [],
   "source": []
  }
 ],
 "metadata": {
  "kernelspec": {
   "display_name": "Python 3",
   "language": "python",
   "name": "python3"
  },
  "language_info": {
   "codemirror_mode": {
    "name": "ipython",
    "version": 3
   },
   "file_extension": ".py",
   "mimetype": "text/x-python",
   "name": "python",
   "nbconvert_exporter": "python",
   "pygments_lexer": "ipython3",
   "version": "3.7.4"
  }
 },
 "nbformat": 4,
 "nbformat_minor": 4
}
