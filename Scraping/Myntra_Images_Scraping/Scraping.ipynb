{
  "nbformat": 4,
  "nbformat_minor": 0,
  "metadata": {
    "colab": {
      "name": "Untitled4.ipynb",
      "provenance": []
    },
    "kernelspec": {
      "name": "python3",
      "display_name": "Python 3"
    }
  },
  "cells": [
    {
      "cell_type": "code",
      "metadata": {
        "id": "TsBAMXhZu3bv"
      },
      "source": [
        "import urllib.request\n"
      ],
      "execution_count": null,
      "outputs": []
    },
    {
      "cell_type": "markdown",
      "metadata": {
        "id": "skRSi6OMVkTP"
      },
      "source": [
        "Loading image urls file"
      ]
    },
    {
      "cell_type": "code",
      "metadata": {
        "id": "ht7zwmw5INsE"
      },
      "source": [
        "f = open(\"Image_urls.txt\", \"r\")\n",
        "urls = f.read().split('\\n')"
      ],
      "execution_count": null,
      "outputs": []
    },
    {
      "cell_type": "code",
      "metadata": {
        "id": "HVcR0J4sKpNl"
      },
      "source": [
        "temp = []"
      ],
      "execution_count": null,
      "outputs": []
    },
    {
      "cell_type": "code",
      "metadata": {
        "id": "2a-nMEGqLXIJ"
      },
      "source": [
        "for i in range(10000):\n",
        "  temp.append([urls[i], i])"
      ],
      "execution_count": null,
      "outputs": []
    },
    {
      "cell_type": "code",
      "metadata": {
        "colab": {
          "base_uri": "https://localhost:8080/"
        },
        "id": "RRnSKe4XLgQ9",
        "outputId": "1d3bc469-f06d-45bf-d7a3-5fce3ec7c13b"
      },
      "source": [
        "len(temp)"
      ],
      "execution_count": null,
      "outputs": [
        {
          "output_type": "execute_result",
          "data": {
            "text/plain": [
              "10000"
            ]
          },
          "metadata": {
            "tags": []
          },
          "execution_count": 6
        }
      ]
    },
    {
      "cell_type": "markdown",
      "metadata": {
        "id": "d44FuKdUVpES"
      },
      "source": [
        "Downloading images"
      ]
    },
    {
      "cell_type": "code",
      "metadata": {
        "id": "-8PcvyBiKWNQ"
      },
      "source": [
        "# downloads the image from a given link\n",
        "def download(link):\n",
        "  urllib.request.urlretrieve(link[0], '/content/drive/MyDrive/colab_output/myntra_images_1/' + str(link[1]) + \".jpg\")\n"
      ],
      "execution_count": null,
      "outputs": []
    },
    {
      "cell_type": "markdown",
      "metadata": {
        "id": "Ro3X17kcV0qK"
      },
      "source": [
        "using pool to sent multiple requests"
      ]
    },
    {
      "cell_type": "code",
      "metadata": {
        "id": "Kxpm_gbxJnx8"
      },
      "source": [
        "from multiprocessing import Pool"
      ],
      "execution_count": null,
      "outputs": []
    },
    {
      "cell_type": "code",
      "metadata": {
        "id": "GIZpMvgSKkrs"
      },
      "source": [
        "agents = 10\n",
        "chunksize = 5\n",
        "with Pool(processes=agents) as pool:\n",
        "    result = pool.map(download, temp, chunksize)"
      ],
      "execution_count": null,
      "outputs": []
    },
    {
      "cell_type": "code",
      "metadata": {
        "id": "CGmyGSkHK3r_"
      },
      "source": [
        ""
      ],
      "execution_count": null,
      "outputs": []
    }
  ]
}